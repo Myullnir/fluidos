{
 "cells": [
  {
   "cell_type": "markdown",
   "metadata": {},
   "source": [
    "# 2) El sistema de Lorenz"
   ]
  },
  {
   "cell_type": "markdown",
   "metadata": {},
   "source": [
    "Considere el sistema de Lorenz (Lorenz 1963):\n",
    "$$ \\begin{aligned}\n",
    "\\dot{x} &= σ(y − x) \\\\\n",
    "\\dot{y} &= ρx − y − xz \\\\\n",
    "\\dot{z} &= xy − βz \\\\\n",
    "\\end{aligned} $$\n",
    "donde $x$, $y$ y $z$ son funciones del tiempo\n",
    "y $β=8/3$, $σ=10$ y $ρ$ parámetros del sistema."
   ]
  },
  {
   "cell_type": "markdown",
   "metadata": {},
   "source": [
    "a) Resuelva numéricamente el sistema de Lorenz\n",
    "hasta $t = 50$\n",
    "usando la condición inicial $W_0 = (x_0, y_0, z_0) = (0, 0.5, 0.5)$,\n",
    "y $ρ = 2$.\n",
    "Grafique $y(t)$ y $z(t)$\n",
    "y la trayectoria en el espacio de fase proyectada en el plano\n",
    "$y − z$ (es decir $y(z)$).\n",
    "¿A qué dinámica corresponde esta solución?\n",
    "Utilice un método con paso de tiempo variable:\n",
    "`scipy.integrate.ode(f).set_integrator(‘dopri5’)` en SciPy."
   ]
  },
  {
   "cell_type": "markdown",
   "metadata": {},
   "source": [
    "b) Para la misma condición inicial,\n",
    "utilice\n",
    "(i) $ρ = 10$ y\n",
    "(ii) $ρ = 24$.\n",
    "Grafique $y(t)$ y $z(t)$,\n",
    "$y(z)$,\n",
    "y la trayectoria en el espacio de fases tridimensional $(x, y, z)$.\n",
    "¿Cómo cambian las soluciones?"
   ]
  },
  {
   "cell_type": "markdown",
   "metadata": {},
   "source": [
    "c) Para $ρ=25$ grafique nuevamente $y(t)$ y $z(t)$, $y(z)$, y la trayectoria en el espacio de fases tridimensional.\n",
    "Compare las soluciones numéricas $ρ=24$ y $ρ=25$.\n",
    "¿La solución con $ρ=24$ va a continuar igual para todo tiempo? ¿Por qué?"
   ]
  },
  {
   "cell_type": "markdown",
   "metadata": {},
   "source": [
    "d) Para $ρ=30$ muestre la evolución temporal de $y$\n",
    "para las siguientes condiciones iniciales:\n",
    "(i) $W_0 = (x_0, y_0, z_0) = (0, 0.5, 0.5)$ y\n",
    "(ii) $W_0 = (x_0, y_0, z_0) = (0, 0.5, 0.50001)$.\n",
    "¿Qué observa?"
   ]
  }
 ],
 "metadata": {
  "kernelspec": {
   "display_name": "Python 3.10.6 ('fluidos')",
   "language": "python",
   "name": "python3"
  },
  "language_info": {
   "codemirror_mode": {
    "name": "ipython",
    "version": 3
   },
   "file_extension": ".py",
   "mimetype": "text/x-python",
   "name": "python",
   "nbconvert_exporter": "python",
   "pygments_lexer": "ipython3",
   "version": "3.10.6"
  },
  "orig_nbformat": 4,
  "vscode": {
   "interpreter": {
    "hash": "439874a39b328a25278d9ded35b3a72862032f9a8ccb66153f1357733154c015"
   }
  }
 },
 "nbformat": 4,
 "nbformat_minor": 2
}
