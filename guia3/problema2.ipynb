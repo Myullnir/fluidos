{
 "cells": [
  {
   "cell_type": "markdown",
   "metadata": {},
   "source": [
    "## 2) El sistema de Lorenz"
   ]
  },
  {
   "cell_type": "markdown",
   "metadata": {},
   "source": [
    "> Considere el sistema de Lorenz (Lorenz 1963):\n",
    "> $$ \\begin{aligned}\n",
    "\\dot{x} &= σ(y − x) \\\\\n",
    "\\dot{y} &= ρx − y − xz \\\\\n",
    "\\dot{z} &= xy − βz \\\\\n",
    "\\end{aligned} $$\n",
    "> donde $x$, $y$ y $z$ son funciones del tiempo\n",
    "y $β=8/3$, $σ=10$ y $ρ$ parámetros del sistema."
   ]
  },
  {
   "cell_type": "code",
   "execution_count": null,
   "metadata": {},
   "outputs": [],
   "source": [
    "import numpy as np\n",
    "import matplotlib.pyplot as plt\n",
    "from scipy.integrate import solve_ivp\n",
    "\n",
    "plt.rc(\"figure\", dpi=100)\n",
    "\n",
    "\n",
    "def lorenz(*, sigma, rho, beta):\n",
    "    def lorenz_rhs(t, y):\n",
    "        dy = np.empty_like(y)\n",
    "        x, y, z = y\n",
    "        dy[0] = sigma * (y - x)\n",
    "        dy[1] = rho * x - y - x * z\n",
    "        dy[2] = x * y - beta * z\n",
    "        return dy\n",
    "\n",
    "    return lorenz_rhs\n",
    "\n",
    "\n",
    "solver_kwargs = dict(method=\"RK45\", atol=1e-6, rtol=1e-6)"
   ]
  },
  {
   "cell_type": "code",
   "execution_count": null,
   "metadata": {},
   "outputs": [],
   "source": [
    "def plot_time_trajectories(fig, sol):\n",
    "    axes = fig.axes\n",
    "    if len(axes) == 0:\n",
    "        axes = fig.subplots(3, sharex=True)\n",
    "    \n",
    "    for ax, y, label in zip(axes, sol.y, \"xyz\"):\n",
    "        ax.plot(sol.t, y)\n",
    "        ax.set(ylabel=label)\n",
    "    ax.set(xlabel=\"Tiempo\")\n",
    "    fig.align_ylabels()\n",
    "\n",
    "def plot_xz(fig, sol, label=\"$W_0$\"):\n",
    "    if len(fig.axes) == 0:\n",
    "        ax = fig.subplots()\n",
    "    else:\n",
    "        ax = fig.axes[0]\n",
    "\n",
    "    ax.plot(sol.y[1], sol.y[2])\n",
    "    ax.scatter(sol.y[1][0], sol.y[2][0], label=label)\n",
    "    ax.set(xlabel=\"y\", ylabel=\"z\")\n",
    "    ax.legend()\n",
    "\n",
    "def plot_3d(fig, sol):\n",
    "    if len(fig.axes) == 0:\n",
    "        ax = fig.add_subplot(projection='3d')\n",
    "    else:\n",
    "        ax = fig.axes[0]\n",
    "\n",
    "    ax.plot(*sol.y)\n",
    "    ax.set(xlabel=\"x\", ylabel=\"y\", zlabel=\"z\")\n",
    "\n",
    "def plot(fig, sol):\n",
    "    figs = fig.subfigs\n",
    "    if len(figs) == 0:\n",
    "        figs = fig.subfigures(ncols=3)\n",
    "    \n",
    "    plot_time_trajectories(figs[0], sol)\n",
    "    plot_xz(figs[1], sol)\n",
    "    plot_3d(figs[2], sol)"
   ]
  },
  {
   "cell_type": "markdown",
   "metadata": {},
   "source": [
    "### a)\n",
    "> Resuelva numéricamente el sistema de Lorenz\n",
    "hasta $t = 50$\n",
    "usando la condición inicial $W_0 = (x_0, y_0, z_0) = (0, 0.5, 0.5)$,\n",
    "y $ρ = 2$.\n",
    "Grafique $y(t)$ y $z(t)$\n",
    "y la trayectoria en el espacio de fase proyectada en el plano\n",
    "$y − z$ (es decir $y(z)$).\n",
    "¿A qué dinámica corresponde esta solución?\n",
    "Utilice un método con paso de tiempo variable:\n",
    "`scipy.integrate.ode(f).set_integrator(‘dopri5’)` en SciPy."
   ]
  },
  {
   "cell_type": "markdown",
   "metadata": {},
   "source": [
    "Esta condición inicial tiende a un punto fijo en el espacio de fases."
   ]
  },
  {
   "cell_type": "code",
   "execution_count": null,
   "metadata": {},
   "outputs": [],
   "source": [
    "from re import M\n",
    "\n",
    "\n",
    "sol = solve_ivp(\n",
    "    lorenz(sigma=10, beta=8 / 3, rho=2),\n",
    "    t_span=(0, 50),\n",
    "    y0=(0, 0.5, 0.5),\n",
    "    **solver_kwargs,\n",
    ")\n",
    "\n",
    "fig = plt.figure(figsize=(12, 4))\n",
    "plot(fig, sol)"
   ]
  },
  {
   "cell_type": "markdown",
   "metadata": {},
   "source": [
    "### b)\n",
    "> Para la misma condición inicial,\n",
    "utilice\n",
    "(i) $ρ = 10$ y\n",
    "(ii) $ρ = 24$.\n",
    "Grafique $y(t)$ y $z(t)$,\n",
    "$y(z)$,\n",
    "y la trayectoria en el espacio de fases tridimensional $(x, y, z)$.\n",
    "¿Cómo cambian las soluciones?"
   ]
  },
  {
   "cell_type": "markdown",
   "metadata": {},
   "source": [
    "Las soluciones también tienden a un punto fijo,\n",
    "pero las trayectorias oscilan al acercarse a este."
   ]
  },
  {
   "cell_type": "code",
   "execution_count": null,
   "metadata": {},
   "outputs": [],
   "source": [
    "sol = solve_ivp(\n",
    "    lorenz(sigma=10, beta=8 / 3, rho=10),\n",
    "    t_span=(0, 50),\n",
    "    y0=(0, 0.5, 0.5),\n",
    "    **solver_kwargs,\n",
    ")\n",
    "\n",
    "fig = plt.figure(figsize=(12, 4))\n",
    "plot(fig, sol)"
   ]
  },
  {
   "cell_type": "markdown",
   "metadata": {},
   "source": [
    "En cambio,\n",
    "para $\\rho = 24$,\n",
    "la solución parece tender a un ciclo límite,\n",
    "donde las 3 variables oscilan alrededor de un punto del espacio de fase."
   ]
  },
  {
   "cell_type": "code",
   "execution_count": null,
   "metadata": {},
   "outputs": [],
   "source": [
    "sol = solve_ivp(\n",
    "    lorenz(sigma=10, beta=8 / 3, rho=24),\n",
    "    t_span=(0, 50),\n",
    "    y0=(0, 0.5, 0.5),\n",
    "    **solver_kwargs,\n",
    ")\n",
    "\n",
    "fig = plt.figure(figsize=(12, 4))\n",
    "plot(fig, sol)"
   ]
  },
  {
   "cell_type": "markdown",
   "metadata": {},
   "source": [
    "### c)\n",
    "> Para $ρ=25$ grafique nuevamente $y(t)$ y $z(t)$, $y(z)$, y la trayectoria en el espacio de fases tridimensional.\n",
    "Compare las soluciones numéricas $ρ=24$ y $ρ=25$.\n",
    "¿La solución con $ρ=24$ va a continuar igual para todo tiempo? ¿Por qué?"
   ]
  },
  {
   "cell_type": "markdown",
   "metadata": {},
   "source": [
    "A diferencia del caso anterior,\n",
    "para $\\rho = 25$,\n",
    "la solución muestra aspectos de un sistema caótico.\n",
    "La solución oscila alrededor de dos \"ciclos límite\",\n",
    "saltando entre uno y otro de manera \"impredecible\"."
   ]
  },
  {
   "cell_type": "code",
   "execution_count": null,
   "metadata": {},
   "outputs": [],
   "source": [
    "sol = solve_ivp(\n",
    "    lorenz(sigma=10, beta=8 / 3, rho=25),\n",
    "    t_span=(0, 50),\n",
    "    y0=(0, 0.5, 0.5),\n",
    "    **solver_kwargs,\n",
    ")\n",
    "\n",
    "fig = plt.figure(figsize=(12, 4))\n",
    "plot(fig, sol)"
   ]
  },
  {
   "cell_type": "markdown",
   "metadata": {},
   "source": [
    "Si evolucionamos el caso de $\\rho = 24$ para tiempos mayores,\n",
    "se observa que también tiene comportamiento caótico."
   ]
  },
  {
   "cell_type": "code",
   "execution_count": null,
   "metadata": {},
   "outputs": [],
   "source": [
    "sol = solve_ivp(\n",
    "    lorenz(sigma=10, beta=8 / 3, rho=24),\n",
    "    t_span=(0, 100),\n",
    "    y0=(0, 0.5, 0.5),\n",
    "    **solver_kwargs,\n",
    ")\n",
    "\n",
    "fig = plt.figure(figsize=(12, 4))\n",
    "plot(fig, sol)"
   ]
  },
  {
   "cell_type": "markdown",
   "metadata": {},
   "source": [
    "### d)\n",
    "> Para $ρ=30$ muestre la evolución temporal de $y$\n",
    "para las siguientes condiciones iniciales:\n",
    "(i) $W_0 = (x_0, y_0, z_0) = (0, 0.5, 0.5)$ y\n",
    "(ii) $W_0 = (x_0, y_0, z_0) = (0, 0.5, 0.50001)$.\n",
    "¿Qué observa?"
   ]
  },
  {
   "cell_type": "markdown",
   "metadata": {},
   "source": [
    "Las dos soluciones se mueven juntas en el espacio de fases para tiempos cortos.\n",
    "Incluso para los saltos entre los dos atractores.\n",
    "Pero, a partir de cierto tiempo, se separan,\n",
    "y la dinámica de una solución no nos informa nada sobre la dinámica de la otra."
   ]
  },
  {
   "cell_type": "code",
   "execution_count": null,
   "metadata": {},
   "outputs": [],
   "source": [
    "fig = plt.figure(figsize=(12, 4))\n",
    "\n",
    "for z0 in (0.5, 0.50001):\n",
    "    sol = solve_ivp(\n",
    "        lorenz(sigma=10, beta=8 / 3, rho=30),\n",
    "        t_span=(0, 50),\n",
    "        y0=(0, 0.5, z0),\n",
    "        **solver_kwargs,\n",
    "    )\n",
    "    plot_time_trajectories(fig, sol)"
   ]
  }
 ],
 "metadata": {
  "kernelspec": {
   "display_name": "Python 3.10.6 ('fluidos')",
   "language": "python",
   "name": "python3"
  },
  "language_info": {
   "codemirror_mode": {
    "name": "ipython",
    "version": 3
   },
   "file_extension": ".py",
   "mimetype": "text/x-python",
   "name": "python",
   "nbconvert_exporter": "python",
   "pygments_lexer": "ipython3",
   "version": "3.10.6"
  },
  "orig_nbformat": 4,
  "vscode": {
   "interpreter": {
    "hash": "439874a39b328a25278d9ded35b3a72862032f9a8ccb66153f1357733154c015"
   }
  }
 },
 "nbformat": 4,
 "nbformat_minor": 2
}
