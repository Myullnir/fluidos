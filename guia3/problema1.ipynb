{
 "cells": [
  {
   "cell_type": "markdown",
   "metadata": {},
   "source": [
    "# 1) Puntos Fijos y Bifurcaciones\n",
    "\n",
    "Crecimiento Poblacional Humano:\n",
    "un modelo simple de crecimiento poblacional de organismos vivos\n",
    "es ̇$\\dot{N} = rN$,\n",
    "donde $N(t) = N_0 e^{rt}$ es la población al tiempo $t$,\n",
    "$r > 0$ es la tasa de crecimiento\n",
    "y $N(t=0) = N_0$.\n",
    "Es un hecho empírico que\n",
    "el crecimiento exponencial predicho por este modelo\n",
    "no puede continuar por siempre.\n",
    "Un modelo más realista es\n",
    "aquel propuesto por Verhulst (1838) para el crecimiento poblacional humano:\n",
    "$$N = r (1 − \\frac{N}{K}) N \\tag{1}$$\n",
    "donde $K > 0$ es la capacidad de carga."
   ]
  },
  {
   "cell_type": "markdown",
   "metadata": {},
   "source": [
    "a) Resuelva analiticamente el modelo (1)\n",
    "para una dada condición inicial arbitraria $N(t=0) = N_0$.\n",
    "Ayuda: utilice el cambio de variables: x = 1/N."
   ]
  },
  {
   "cell_type": "markdown",
   "metadata": {},
   "source": [
    "b) Encuentre los puntos fijos y estudie su estabilidad."
   ]
  },
  {
   "cell_type": "markdown",
   "metadata": {},
   "source": [
    "c) ¿Existen bifurcaciones en el modelo (1)? En caso afirmativo, estudie las mismas."
   ]
  },
  {
   "cell_type": "markdown",
   "metadata": {},
   "source": [
    "d) (Opcional) Para ciertos organismos,\n",
    "una corrección al modelo (1) es:\n",
    "$$N = rN − a(N − b)^2 N \\tag{2}$$\n",
    "donde $a$, $b$ y $r$ deben satisfacer ciertas condiciones a ser determinadas empiricamente.\n",
    "Encuentre los puntos fijos y estudie su estabilidad."
   ]
  },
  {
   "cell_type": "markdown",
   "metadata": {},
   "source": [
    "e) (Opcional) Dibuje cualitativamente las soluciones $N(t)$\n",
    "para diferentes condiciones iniciales $N_0$.\n",
    "¿Para qué valores de $N$ es máxima la tasa efectiva de crecimiento $\\dot{N}/N$?"
   ]
  },
  {
   "cell_type": "markdown",
   "metadata": {},
   "source": [
    "f) (Opcional) Resuelva analíticamente el modelo (2)\n",
    "y compare con las soluciones halladas en el inciso a)."
   ]
  }
 ],
 "metadata": {
  "kernelspec": {
   "display_name": "Python 3.10.6 ('fluidos')",
   "language": "python",
   "name": "python3"
  },
  "language_info": {
   "name": "python",
   "version": "3.10.6"
  },
  "orig_nbformat": 4,
  "vscode": {
   "interpreter": {
    "hash": "439874a39b328a25278d9ded35b3a72862032f9a8ccb66153f1357733154c015"
   }
  }
 },
 "nbformat": 4,
 "nbformat_minor": 2
}
