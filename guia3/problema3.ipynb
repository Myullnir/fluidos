{
 "cells": [
  {
   "cell_type": "markdown",
   "metadata": {},
   "source": [
    "## 3) Inestabilidades en flujos estratificados"
   ]
  },
  {
   "cell_type": "markdown",
   "metadata": {},
   "source": [
    "> Haciendo uso del solver BOUSS en GHOST,\n",
    "resuelva numéricamente las ecuaciones para un flujo incompresible con $ρ_0=1$,\n",
    "en un recinto cubico de longitud $4π × 2π × 2π$\n",
    "y resolución espacial $N_x=256$, $N_y=16$, $N_z=128$.\n",
    "Hacer uso del Material Adicional.\n",
    "Utilice como condición inicial el siguiente perfil para la velocidad horizontal\n",
    "> $$ \\frac{u}{u_0} = \\tanh[γ(z − π/2)] + \\tanh[γ(−z + 3π/2)] − 1 \\tag{6} $$\n",
    "> donde $γ$ controla la pendiente de la tangente hiperbólica,\n",
    "y por lo tanto el gradiente de la velocidad inicial.\n",
    "A la vez, perturbe este perfil con un campo de velocidad aleatorio con amplitud $u_1$."
   ]
  },
  {
   "cell_type": "markdown",
   "metadata": {},
   "source": [
    "### a)\n",
    "> Grafique el perfil de la velocidad $u(z)$,\n",
    "y calcule analíticamente el máximo número de Richardson en\n",
    "función de la frecuencia de Brunt-Väisälä $N$ y de $γ$."
   ]
  },
  {
   "cell_type": "markdown",
   "metadata": {},
   "source": [
    "### b)\n",
    "> Calcule la resolución espacial $∆x$, $∆y$ y $∆z$.\n",
    "¿Cómo justifica la elección de $∆y$ que resulta de los parámetros dados?\n",
    "Para $u_0 = 1$ y asumiendo que $u_0 \\gg u_1$,\n",
    "estime $∆t$ usando la condición CFL."
   ]
  },
  {
   "cell_type": "markdown",
   "metadata": {},
   "source": [
    "### c)\n",
    "> Realice una simulación con\n",
    "$u_0 = 1$,\n",
    "$u_1 = 0.1$,\n",
    "$ν = κ = 2 × 10^{-3}$,\n",
    "$N = 2$ y\n",
    "$γ = 10$\n",
    "hasta $t = 10$.\n",
    "Guarde el campo de velocidad y la temperatura para $∆t ≤ 0.6$.\n",
    "Estudie la evolución temporal de $u$, $ω_y$ y de la temperatura $θ$.\n",
    "¿Qué observa?"
   ]
  },
  {
   "cell_type": "markdown",
   "metadata": {},
   "source": [
    "### d)\n",
    "> Con los mismos parámetros del punto c),\n",
    "realice ahora simulaciones variando $N$ entre $0$ y $6$ (pasos de a $1$).\n",
    "¿Qué ocurre?\n",
    "Estime la tasa de crecimiento de la inestabilidad\n",
    "en función del máximo número de Richardson en el flujo."
   ]
  },
  {
   "cell_type": "markdown",
   "metadata": {},
   "source": [
    "### e)\n",
    "> Con los mismos parámetros del punto c),\n",
    "fije ahora $N = 2$\n",
    "y varíe $γ$ entre $5$ y $20$ (pasos de a $5$).\n",
    "Grafique el número de onda del modo más inestable\n",
    "en función de $γ$\n",
    "(ayuda: puede estimar este número de onda\n",
    "contando cuantos máximos de la vorticidad $ω_y$ aparecen a lo largo de un corte horizontal\n",
    "a medida que se desarrolla la inestabilidad)"
   ]
  }
 ],
 "metadata": {
  "kernelspec": {
   "display_name": "Python 3.10.6 ('fluidos')",
   "language": "python",
   "name": "python3"
  },
  "language_info": {
   "name": "python",
   "version": "3.10.6"
  },
  "orig_nbformat": 4,
  "vscode": {
   "interpreter": {
    "hash": "439874a39b328a25278d9ded35b3a72862032f9a8ccb66153f1357733154c015"
   }
  }
 },
 "nbformat": 4,
 "nbformat_minor": 2
}
